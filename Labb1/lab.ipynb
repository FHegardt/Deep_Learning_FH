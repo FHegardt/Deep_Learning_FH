{
 "cells": [
  {
   "cell_type": "code",
   "execution_count": 1,
   "metadata": {},
   "outputs": [
    {
     "name": "stdout",
     "output_type": "stream",
     "text": [
      "c:\\Users\\fredr\\OneDrive\\Documents\\GitHub\\Deep_Learning_FH\\Labb1\n",
      "['experiment_small_data', 'experiment_tiny_data', 'lab.ipynb', 'originaldata']\n",
      "c:\\Users\\fredr\\OneDrive\\Documents\\GitHub\\Deep_Learning_FH\\Data\n"
     ]
    },
    {
     "data": {
      "text/plain": [
       "['Homer.png', 'processed_images']"
      ]
     },
     "execution_count": 1,
     "metadata": {},
     "output_type": "execute_result"
    }
   ],
   "source": [
    "import os\n",
    "\n",
    "current_dir = os.path.abspath(\"\")\n",
    "\n",
    "print(f\"{current_dir}\")\n",
    "\n",
    "current_dir_files = os.listdir(current_dir)\n",
    "print(f\"{current_dir_files}\")\n",
    "\n"
   ]
  },
  {
   "cell_type": "code",
   "execution_count": 4,
   "metadata": {},
   "outputs": [],
   "source": [
    "first_folder = [\"experiment_small_data\", \"experiment_tiny_data\"]\n",
    "second_folder = [\"train\", \"test\", \"val\"]\n",
    "\n",
    "for a in range(len(first_folder)):\n",
    "        try:\n",
    "            os.mkdir(f\"{first_folder[a]}\")\n",
    "        except FileExistsError as err:\n",
    "            print(err)\n",
    "        for b in range(len(second_folder)):\n",
    "            try:\n",
    "                os.mkdir(f\"{first_folder[a]}/{second_folder[b]}\")\n",
    "            except FileExistsError as err:\n",
    "                print(err)"
   ]
  }
 ],
 "metadata": {
  "interpreter": {
   "hash": "463da31cd7659d04364577a9b7e0b433c29a180f689d872af6557243837d4f7b"
  },
  "kernelspec": {
   "display_name": "Python 3.9.6 ('Deep_Learning_FH-stdKRyvh')",
   "language": "python",
   "name": "python3"
  },
  "language_info": {
   "codemirror_mode": {
    "name": "ipython",
    "version": 3
   },
   "file_extension": ".py",
   "mimetype": "text/x-python",
   "name": "python",
   "nbconvert_exporter": "python",
   "pygments_lexer": "ipython3",
   "version": "3.9.6"
  },
  "orig_nbformat": 4
 },
 "nbformat": 4,
 "nbformat_minor": 2
}
