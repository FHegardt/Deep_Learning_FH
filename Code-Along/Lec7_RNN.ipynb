{
 "cells": [
  {
   "cell_type": "code",
   "execution_count": 3,
   "metadata": {},
   "outputs": [
    {
     "data": {
      "text/plain": [
       "<AxesSubplot:title={'center':'f(x)'}, xlabel='Time units', ylabel='Sales'>"
      ]
     },
     "execution_count": 3,
     "metadata": {},
     "output_type": "execute_result"
    },
    {
     "data": {
      "image/png": "[encoded data removed]",
      "text/plain": [
       "<Figure size 432x288 with 1 Axes>"
      ]
     },
     "metadata": {
      "needs_background": "light"
     },
     "output_type": "display_data"
    }
   ],
   "source": [
    "import numpy as np\n",
    "import pandas as pd\n",
    "import matplotlib.pyplot as plt\n",
    "\n",
    "f = lambda t: .5*np.sin(2*t)+2*np.cos(.5*t)\n",
    "x = np.linspace(0,5,500)\n",
    "df = pd.DataFrame(f(x), index=x, columns = [\"f(x)\"])\n",
    "\n",
    "df.plot(title = \"f(x)\", xlabel = \"Time units\", ylabel = \"Sales\")"
   ]
  },
  {
   "cell_type": "code",
   "execution_count": 1,
   "metadata": {},
   "outputs": [
    {
     "ename": "NameError",
     "evalue": "name 'df' is not defined",
     "output_type": "error",
     "traceback": [
      "\u001b[1;31m---------------------------------------------------------------------------\u001b[0m",
      "\u001b[1;31mNameError\u001b[0m                                 Traceback (most recent call last)",
      "\u001b[1;32mc:\\Users\\fredr\\OneDrive\\Documents\\GitHub\\Deep_Learning_FH\\Code-Along\\Lec7_RNN.ipynb Cell 2'\u001b[0m in \u001b[0;36m<cell line: 2>\u001b[1;34m()\u001b[0m\n\u001b[0;32m      <a href='vscode-notebook-cell:/c%3A/Users/fredr/OneDrive/Documents/GitHub/Deep_Learning_FH/Code-Along/Lec7_RNN.ipynb#ch0000001?line=0'>1</a>\u001b[0m test_split \u001b[39m=\u001b[39m \u001b[39m20\u001b[39m\n\u001b[1;32m----> <a href='vscode-notebook-cell:/c%3A/Users/fredr/OneDrive/Documents/GitHub/Deep_Learning_FH/Code-Along/Lec7_RNN.ipynb#ch0000001?line=1'>2</a>\u001b[0m df_train \u001b[39m=\u001b[39m df\u001b[39m.\u001b[39miloc[:\u001b[39m-\u001b[39mtest_split]\n\u001b[0;32m      <a href='vscode-notebook-cell:/c%3A/Users/fredr/OneDrive/Documents/GitHub/Deep_Learning_FH/Code-Along/Lec7_RNN.ipynb#ch0000001?line=2'>3</a>\u001b[0m df_test \u001b[39m=\u001b[39m df\u001b[39m.\u001b[39miloc[\u001b[39m-\u001b[39mtest_split:]\n\u001b[0;32m      <a href='vscode-notebook-cell:/c%3A/Users/fredr/OneDrive/Documents/GitHub/Deep_Learning_FH/Code-Along/Lec7_RNN.ipynb#ch0000001?line=3'>4</a>\u001b[0m ax \u001b[39m=\u001b[39m plt\u001b[39m.\u001b[39maxes\n",
      "\u001b[1;31mNameError\u001b[0m: name 'df' is not defined"
     ]
    }
   ],
   "source": [
    "test_split = 20\n",
    "df_train = df.iloc[:-test_split]\n",
    "df_test = df.iloc[-test_split:]\n",
    "ax = plt.axes\n",
    "df_train.plot(ax=ax)\n",
    "df_test.plot(ax = ax)\n",
    "plt.legend([\"train\",\"test\"])"
   ]
  }
 ],
 "metadata": {
  "interpreter": {
   "hash": "463da31cd7659d04364577a9b7e0b433c29a180f689d872af6557243837d4f7b"
  },
  "kernelspec": {
   "display_name": "Python 3.9.6 ('Deep_Learning_FH-stdKRyvh')",
   "language": "python",
   "name": "python3"
  },
  "language_info": {
   "codemirror_mode": {
    "name": "ipython",
    "version": 3
   },
   "file_extension": ".py",
   "mimetype": "text/x-python",
   "name": "python",
   "nbconvert_exporter": "python",
   "pygments_lexer": "ipython3",
   "version": "3.9.6"
  },
  "orig_nbformat": 4
 },
 "nbformat": 4,
 "nbformat_minor": 2
}
